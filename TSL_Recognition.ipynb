{
 "cells": [
  {
   "cell_type": "markdown",
   "id": "ea43ca32",
   "metadata": {},
   "source": [
    "# Import initial libraries "
   ]
  },
  {
   "cell_type": "code",
   "execution_count": 14,
   "id": "76394459",
   "metadata": {},
   "outputs": [],
   "source": [
    "import cv2\n",
    "import numpy as np\n",
    "import os\n",
    "from matplotlib import pyplot as plt\n",
    "import mediapipe as mp\n",
    "# from keras.utils.vis_utils import plot_model\n",
    "from sklearn.model_selection import train_test_split\n",
    "from keras.utils import to_categorical\n",
    "from keras.models import Sequential, load_model\n",
    "from keras.layers import LSTM, Dense, GRU, Bidirectional, Dropout\n",
    "from sklearn.metrics import multilabel_confusion_matrix"
   ]
  },
  {
   "cell_type": "markdown",
   "id": "082491b5",
   "metadata": {},
   "source": [
    "# Create MediaPipe Function for Detect Body"
   ]
  },
  {
   "cell_type": "code",
   "execution_count": 15,
   "id": "fea85f73",
   "metadata": {},
   "outputs": [],
   "source": [
    "mp_holistic = mp.solutions.holistic # Holistic model\n",
    "mp_drawing = mp.solutions.drawing_utils # Drawing utilities"
   ]
  },
  {
   "cell_type": "code",
   "execution_count": 16,
   "id": "dfbf7da0",
   "metadata": {},
   "outputs": [],
   "source": [
    "def mediapipe_detection(image, model):\n",
    "    image = cv2.cvtColor(image, cv2.COLOR_BGR2RGB) # COLOR CONVERSION BGR 2 RGB\n",
    "    image.flags.writeable = False                  # Image is no longer writeable\n",
    "    results = model.process(image)                 # Make prediction\n",
    "    image.flags.writeable = True                   # Image is now writeable \n",
    "    image = cv2.cvtColor(image, cv2.COLOR_RGB2BGR) # COLOR COVERSION RGB 2 BGR\n",
    "    return image, results"
   ]
  },
  {
   "cell_type": "code",
   "execution_count": 17,
   "id": "1e3231aa",
   "metadata": {},
   "outputs": [],
   "source": [
    "def draw_styled_landmarks(image, results):\n",
    "    # Draw face connections\n",
    "    mp_drawing.draw_landmarks(image, results.face_landmarks, mp_holistic.FACEMESH_TESSELATION, \n",
    "                             mp_drawing.DrawingSpec(color=(80,110,10), thickness=1, circle_radius=1), \n",
    "                             mp_drawing.DrawingSpec(color=(80,256,121), thickness=1, circle_radius=1)) \n",
    "    \n",
    "    # Draw pose connections\n",
    "    mp_drawing.draw_landmarks(image, results.pose_landmarks, mp_holistic.POSE_CONNECTIONS,\n",
    "                             mp_drawing.DrawingSpec(color=(80,22,10), thickness=2, circle_radius=4), \n",
    "                             mp_drawing.DrawingSpec(color=(80,44,121), thickness=2, circle_radius=2)) \n",
    "    \n",
    "    # Draw left hand connections\n",
    "    mp_drawing.draw_landmarks(image, results.left_hand_landmarks, mp_holistic.HAND_CONNECTIONS, \n",
    "                             mp_drawing.DrawingSpec(color=(121,22,76), thickness=2, circle_radius=4), \n",
    "                             mp_drawing.DrawingSpec(color=(121,44,250), thickness=2, circle_radius=2)) \n",
    "    \n",
    "    # Draw right hand connections  \n",
    "    mp_drawing.draw_landmarks(image, results.right_hand_landmarks, mp_holistic.HAND_CONNECTIONS, \n",
    "                             mp_drawing.DrawingSpec(color=(245,117,66), thickness=2, circle_radius=4), \n",
    "                             mp_drawing.DrawingSpec(color=(245,66,230), thickness=2, circle_radius=2)) "
   ]
  },
  {
   "cell_type": "markdown",
   "id": "175f4a8b",
   "metadata": {},
   "source": [
    "# Test MediaPipe Function with real camera "
   ]
  },
  {
   "cell_type": "code",
   "execution_count": 38,
   "id": "5495f726",
   "metadata": {},
   "outputs": [],
   "source": [
    "cap = cv2.VideoCapture(0)\n",
    "# Set mediapipe model \n",
    "with mp_holistic.Holistic(min_detection_confidence=0.5, min_tracking_confidence=0.5) as holistic:\n",
    "    while cap.isOpened():\n",
    "\n",
    "        # Read feed\n",
    "        ret, frame = cap.read()\n",
    "\n",
    "        # Make detections\n",
    "        image, results = mediapipe_detection(frame, holistic)\n",
    "#         print(results)\n",
    "        \n",
    "        # Draw landmarks\n",
    "        draw_styled_landmarks(image, results)\n",
    "        \n",
    "        # Show to screen\n",
    "        cv2.imshow('OpenCV Feed', image)\n",
    "\n",
    "        # Break gracefully\n",
    "        if cv2.waitKey(10) & 0xFF == ord('q'):\n",
    "            break\n",
    "    cap.release()\n",
    "    cv2.destroyAllWindows()"
   ]
  },
  {
   "cell_type": "markdown",
   "id": "581d3a31",
   "metadata": {},
   "source": [
    "# Create Extract Function for Extract Feature"
   ]
  },
  {
   "cell_type": "code",
   "execution_count": 19,
   "id": "2e1fd8cd",
   "metadata": {},
   "outputs": [],
   "source": [
    "def extract_keypoints(results):\n",
    "    pose = np.array([[res.x, res.y, res.z, res.visibility] for res in results.pose_landmarks.landmark]).flatten() if results.pose_landmarks else np.zeros(33*4)\n",
    "    face = np.array([[res.x, res.y, res.z] for res in results.face_landmarks.landmark]).flatten() if results.face_landmarks else np.zeros(468*3)\n",
    "    lh = np.array([[res.x, res.y, res.z] for res in results.left_hand_landmarks.landmark]).flatten() if results.left_hand_landmarks else np.zeros(21*3)\n",
    "    rh = np.array([[res.x, res.y, res.z] for res in results.right_hand_landmarks.landmark]).flatten() if results.right_hand_landmarks else np.zeros(21*3)\n",
    "    return np.concatenate([pose, face, lh, rh])"
   ]
  },
  {
   "cell_type": "markdown",
   "id": "f3d48209",
   "metadata": {},
   "source": [
    "# Create Datasets"
   ]
  },
  {
   "cell_type": "code",
   "execution_count": 41,
   "id": "ddd04757",
   "metadata": {},
   "outputs": [],
   "source": [
    "# Path for exported data, numpy arrays\n",
    "DATA_PATH = os.path.join('DATASET') \n",
    "\n",
    "# Actions that we try to detect\n",
    "actions = np.array(['Beautiful', 'Clever', 'Cute', 'Dislike', 'Fine',\n",
    "                    'Full', 'Good Luck', 'Hungry', 'Intelligent', 'Like',\n",
    "                    'Love', 'Regret', 'Sad', 'Sick','Sorry',\n",
    "                    'Thank You', \"That's OK\", 'Think of', 'Understand',])\n",
    "\n",
    "# actions = np.array(['Like', 'Love', 'None'])\n",
    "# Thirty videos worth of data\n",
    "no_sequences = 90\n",
    "\n",
    "# Videos are going to be 30 frames in length\n",
    "sequence_length = 30"
   ]
  },
  {
   "cell_type": "code",
   "execution_count": 36,
   "id": "fbf9ad3a",
   "metadata": {},
   "outputs": [],
   "source": [
    "#for sequence in range(30, no_sequences + 30)\n",
    "for action in actions: \n",
    "    for sequence in range(60,no_sequences+60):\n",
    "        try: \n",
    "            os.makedirs(os.path.join(DATA_PATH, action, str(sequence)))\n",
    "        except:\n",
    "            pass"
   ]
  },
  {
   "cell_type": "code",
   "execution_count": 40,
   "id": "9fb3eff3",
   "metadata": {},
   "outputs": [],
   "source": [
    "cap = cv2.VideoCapture(0)\n",
    "# Set mediapipe model \n",
    "with mp_holistic.Holistic(min_detection_confidence=0.5, min_tracking_confidence=0.5) as holistic:\n",
    "    \n",
    "    # NEW LOOP\n",
    "    # Loop through actions\n",
    "    for action in actions:\n",
    "        # Loop through sequences aka videos\n",
    "        for sequence in range(60, no_sequences+60):\n",
    "            # Loop through video length aka sequence length\n",
    "            for frame_num in range(sequence_length):\n",
    "\n",
    "                # Read feed\n",
    "                ret, frame = cap.read()\n",
    "\n",
    "                # Make detections\n",
    "                image, results = mediapipe_detection(frame, holistic)\n",
    "#                 print(results)\n",
    "\n",
    "                # Draw landmarks\n",
    "                draw_styled_landmarks(image, results)\n",
    "                \n",
    "                # NEW Apply wait logic\n",
    "                if frame_num == 0: \n",
    "                    cv2.putText(image, 'STARTING COLLECTION', (120,200), \n",
    "                               cv2.FONT_HERSHEY_SIMPLEX, 1, (0, 204, 102), 4, cv2.LINE_AA)\n",
    "                    cv2.putText(image, 'Collecting frames for {} Video Number {}'.format(action, sequence), (15,12), \n",
    "                               cv2.FONT_HERSHEY_SIMPLEX, 0.5, (0, 204, 102), 1, cv2.LINE_AA)\n",
    "                    # Show to screen\n",
    "                    cv2.imshow('Camera', image)\n",
    "                    cv2.waitKey(1)\n",
    "                else: \n",
    "                    cv2.putText(image, 'Collecting frames for {} Video Number {}'.format(action, sequence), (15,12), \n",
    "                               cv2.FONT_HERSHEY_SIMPLEX, 0.5, (0,204, 102), 1, cv2.LINE_AA)\n",
    "                    # Show to screen\n",
    "                    cv2.imshow('Camera', image)\n",
    "                \n",
    "                # NEW Export keypoints\n",
    "                keypoints = extract_keypoints(results)\n",
    "                npy_path = os.path.join(DATA_PATH, action, str(sequence), str(frame_num))\n",
    "                np.save(npy_path, keypoints)\n",
    "\n",
    "                # Break gracefully\n",
    "                if cv2.waitKey(10) & 0xFF == ord('q'):\n",
    "                    break\n",
    "                    \n",
    "    cap.release()\n",
    "    cv2.destroyAllWindows()"
   ]
  },
  {
   "cell_type": "markdown",
   "id": "56db8e59",
   "metadata": {},
   "source": [
    "# Prepare Data for train and test"
   ]
  },
  {
   "cell_type": "code",
   "execution_count": 42,
   "id": "08e7ae1b",
   "metadata": {},
   "outputs": [],
   "source": [
    "label_map = {label:num for num, label in enumerate(actions)}\n",
    "sequences, labels = [], []\n",
    "for action in actions:\n",
    "    for sequence in range(no_sequences):\n",
    "        window = []\n",
    "        for frame_num in range(sequence_length):\n",
    "            res = np.load(os.path.join(DATA_PATH, action, str(sequence), \"{}.npy\".format(frame_num)))\n",
    "            window.append(res)\n",
    "        sequences.append(window)\n",
    "        labels.append(label_map[action])"
   ]
  },
  {
   "cell_type": "code",
   "execution_count": 43,
   "id": "2fa18905",
   "metadata": {},
   "outputs": [],
   "source": [
    "X = np.array(sequences)\n",
    "y = to_categorical(labels).astype(int)\n",
    "X_train, X_test, y_train, y_test = train_test_split(X, y, test_size=0.4)"
   ]
  },
  {
   "cell_type": "code",
   "execution_count": 44,
   "id": "b2ec91f4",
   "metadata": {},
   "outputs": [
    {
     "data": {
      "text/plain": [
       "(1026, 30, 1662)"
      ]
     },
     "execution_count": 44,
     "metadata": {},
     "output_type": "execute_result"
    }
   ],
   "source": [
    "X_train.shape"
   ]
  },
  {
   "cell_type": "markdown",
   "id": "cc25ac88",
   "metadata": {},
   "source": [
    "# Train model"
   ]
  },
  {
   "attachments": {},
   "cell_type": "markdown",
   "id": "a00b62eb",
   "metadata": {},
   "source": [
    "Train LSTM Model"
   ]
  },
  {
   "cell_type": "code",
   "execution_count": null,
   "id": "b2b237b6",
   "metadata": {
    "jupyter": {
     "outputs_hidden": true
    },
    "scrolled": true,
    "tags": []
   },
   "outputs": [],
   "source": [
    "model_LSTM = Sequential([\n",
    "    LSTM(64, return_sequences=True, activation='relu', input_shape=(30, 1662)),\n",
    "    Dropout(0.01),\n",
    "    LSTM(128, return_sequences=True, activation='relu'),\n",
    "    Dropout(0.01),\n",
    "    LSTM(64, return_sequences=False, activation='relu'),\n",
    "    Dropout(0.01),\n",
    "    Dense(64, activation='relu'),\n",
    "    Dropout(0.01),\n",
    "    Dense(32, activation='relu'),\n",
    "    Dense(actions.shape[0], activation='softmax')])\n",
    "\n",
    "model_LSTM.compile(optimizer='Adamax', loss='categorical_crossentropy', metrics=[\n",
    "                   'categorical_accuracy'])\n",
    "model_LSTM.fit(X_train, y_train, validation_data=(\n",
    "    X_test, y_test), epochs=620, batch_size=2048)"
   ]
  },
  {
   "cell_type": "code",
   "execution_count": null,
   "id": "463ee077",
   "metadata": {},
   "outputs": [],
   "source": [
    "plt.figure(figsize=(9,6))\n",
    "plt.plot(model_LSTM.history.history['categorical_accuracy'], label='Train accuracy')\n",
    "plt.plot(model_LSTM.history.history['val_categorical_accuracy'], label='Validation accuracy')\n",
    "plt.ylabel('Value')\n",
    "plt.xlabel('No. epoch')\n",
    "plt.legend()\n",
    "plt.show()\n",
    "# plt.savefig('Model/LSTM/plt_LSTM.png')"
   ]
  },
  {
   "cell_type": "code",
   "execution_count": null,
   "id": "d1f25dd1",
   "metadata": {},
   "outputs": [],
   "source": [
    "plt.figure(figsize=(9,6))\n",
    "plt.plot(model_LSTM.history.history['loss'], label='Train loss')\n",
    "plt.plot(model_LSTM.history.history['val_loss'], label='Validation loss')\n",
    "plt.ylabel('Value')\n",
    "plt.xlabel('No. epoch')\n",
    "plt.legend()\n",
    "plt.show()"
   ]
  },
  {
   "cell_type": "code",
   "execution_count": null,
   "id": "db507a9a",
   "metadata": {},
   "outputs": [],
   "source": [
    "model_LSTM.summary()"
   ]
  },
  {
   "cell_type": "code",
   "execution_count": null,
   "id": "9e3f1889",
   "metadata": {},
   "outputs": [],
   "source": [
    "model_LSTM.save('Model/LSTM/LSTM_Model.h5')"
   ]
  },
  {
   "cell_type": "code",
   "execution_count": 8,
   "id": "79bb047f",
   "metadata": {},
   "outputs": [],
   "source": [
    "model_LSTM = load_model('Model/LSTM/LSTM_Model.h5')"
   ]
  },
  {
   "attachments": {},
   "cell_type": "markdown",
   "id": "4956ba53",
   "metadata": {},
   "source": [
    "Train GRU Model"
   ]
  },
  {
   "cell_type": "code",
   "execution_count": null,
   "id": "9d91a1be",
   "metadata": {},
   "outputs": [],
   "source": [
    "model_GRU = Sequential([\n",
    "    GRU(64, return_sequences=True, activation='relu', input_shape=(30, 1662)),\n",
    "    Dropout(0.1),\n",
    "    GRU(128, return_sequences=True, activation='relu'),\n",
    "    Dropout(0.1),\n",
    "    GRU(64, return_sequences=False, activation='relu'),\n",
    "    Dropout(0.1),\n",
    "    Dense(64, activation='relu'),\n",
    "    Dropout(0.1),\n",
    "    Dense(32, activation='relu'),\n",
    "    Dense(actions.shape[0], activation='softmax')])\n",
    "\n",
    "model_GRU.compile(optimizer='Adamax', loss='categorical_crossentropy', metrics=[\n",
    "                  'categorical_accuracy'])\n",
    "model_GRU.fit(X_train, y_train, validation_data=(\n",
    "    X_test, y_test), epochs=620, batch_size=512)\n"
   ]
  },
  {
   "cell_type": "code",
   "execution_count": null,
   "id": "5ebc7198",
   "metadata": {},
   "outputs": [],
   "source": [
    "plt.figure(figsize=(9,6))\n",
    "plt.plot(model_GRU.history.history['categorical_accuracy'], label='Train accuracy')\n",
    "plt.plot(model_GRU.history.history['val_categorical_accuracy'], label='Validation accuracy')\n",
    "plt.ylabel('Value')\n",
    "plt.xlabel('No. epoch')\n",
    "plt.legend()\n",
    "plt.show()"
   ]
  },
  {
   "cell_type": "code",
   "execution_count": null,
   "id": "728ebaa9",
   "metadata": {},
   "outputs": [],
   "source": [
    "plt.figure(figsize=(9,6))\n",
    "plt.plot(model_GRU.history.history['loss'], label='Train loss')\n",
    "plt.plot(model_GRU.history.history['val_loss'], label='Validation loss')\n",
    "plt.ylabel('Value')\n",
    "plt.xlabel('No. epoch')\n",
    "plt.legend()\n",
    "plt.show()"
   ]
  },
  {
   "cell_type": "code",
   "execution_count": null,
   "id": "da3e0c4a",
   "metadata": {},
   "outputs": [],
   "source": [
    "model_GRU.summary()"
   ]
  },
  {
   "cell_type": "code",
   "execution_count": null,
   "id": "113eb135",
   "metadata": {},
   "outputs": [],
   "source": [
    "model_GRU.save('Model/GRU/GRU_Model.h5')"
   ]
  },
  {
   "cell_type": "code",
   "execution_count": null,
   "id": "5f18660d",
   "metadata": {},
   "outputs": [],
   "source": [
    "model_GRU = load_model('Model/GRU/GRU_Model.h5')"
   ]
  },
  {
   "attachments": {},
   "cell_type": "markdown",
   "id": "c69b3145",
   "metadata": {},
   "source": [
    "Train BiLSTM Model"
   ]
  },
  {
   "cell_type": "code",
   "execution_count": null,
   "id": "29c6cfad",
   "metadata": {},
   "outputs": [],
   "source": [
    "model_BiLSTM = Sequential([\n",
    "    Bidirectional(LSTM(128, return_sequences=True,\n",
    "                  activation='relu', input_shape=(30, 1662))),\n",
    "    Dropout(0.1),\n",
    "    Bidirectional(LSTM(256, return_sequences=True, activation='relu')),\n",
    "    Dropout(0.1),\n",
    "    Bidirectional(LSTM(128, return_sequences=False, activation='relu')),\n",
    "    Dropout(0.1),\n",
    "    Dense(64, activation='relu'),\n",
    "    Dropout(0.1),\n",
    "    Dense(32, activation='relu'),\n",
    "    Dense(actions.shape[0], activation='softmax')])\n",
    "\n",
    "model_BiLSTM.compile(optimizer='Adamax', loss='categorical_crossentropy', metrics=[\n",
    "                     'categorical_accuracy'])\n",
    "model_BiLSTM.fit(X_train, y_train, validation_data=(\n",
    "    X_test, y_test), epochs=590, batch_size=512)\n"
   ]
  },
  {
   "cell_type": "code",
   "execution_count": null,
   "id": "3ff6926d",
   "metadata": {},
   "outputs": [],
   "source": [
    "plt.figure(figsize=(9,6))\n",
    "plt.plot(model_BiLSTM.history.history['categorical_accuracy'], label='Train accuracy')\n",
    "plt.plot(model_BiLSTM.history.history['val_categorical_accuracy'], label='Validation accuracy')\n",
    "plt.ylabel('Value')\n",
    "plt.xlabel('No. epoch')\n",
    "plt.legend()\n",
    "plt.show()"
   ]
  },
  {
   "cell_type": "code",
   "execution_count": null,
   "id": "8b4b2de5",
   "metadata": {},
   "outputs": [],
   "source": [
    "plt.figure(figsize=(9,6))\n",
    "plt.plot(model_BiLSTM.history.history['loss'], label='Train loss')\n",
    "plt.plot(model_BiLSTM.history.history['val_loss'], label='Validation loss')\n",
    "plt.ylabel('Value')\n",
    "plt.xlabel('No. epoch')\n",
    "plt.legend()\n",
    "plt.show()"
   ]
  },
  {
   "cell_type": "code",
   "execution_count": null,
   "id": "0884877f",
   "metadata": {},
   "outputs": [],
   "source": [
    "model_BiLSTM.summary()"
   ]
  },
  {
   "cell_type": "code",
   "execution_count": null,
   "id": "570e2412",
   "metadata": {},
   "outputs": [],
   "source": [
    "model_BiLSTM.save('Model/BiLSTM/BiLSTM_Model.h5')"
   ]
  },
  {
   "cell_type": "code",
   "execution_count": null,
   "id": "cb079a74",
   "metadata": {},
   "outputs": [],
   "source": [
    "model_BiLSTM = load_model('Model/BiLSTM/BiLSTM_Model.h5')"
   ]
  },
  {
   "attachments": {},
   "cell_type": "markdown",
   "id": "42c9744c",
   "metadata": {},
   "source": [
    "Test Accuracy Model"
   ]
  },
  {
   "cell_type": "code",
   "execution_count": null,
   "id": "ccdbf1ce",
   "metadata": {},
   "outputs": [],
   "source": [
    "yhat = model_LSTM.predict(X_test)\n",
    "ytrue = np.argmax(y_test, axis=1).tolist()\n",
    "yhat = np.argmax(yhat, axis=1).tolist()\n",
    "\n",
    "model_LSTM.evaluate(X_train, y_train)\n",
    "model_LSTM.evaluate(X_test, y_test)\n",
    "# accuracy_score(ytrue, yhat)"
   ]
  },
  {
   "cell_type": "code",
   "execution_count": null,
   "id": "41cf52e9",
   "metadata": {},
   "outputs": [],
   "source": [
    "yhat = model_GRU.predict(X_test)\n",
    "ytrue2 = np.argmax(y_test, axis=1).tolist()\n",
    "yhat = np.argmax(yhat, axis=1).tolist()\n",
    "\n",
    "model_GRU.evaluate(X_train, y_train)\n",
    "model_GRU.evaluate(X_test, y_test)"
   ]
  },
  {
   "cell_type": "code",
   "execution_count": null,
   "id": "7a3763ea",
   "metadata": {},
   "outputs": [],
   "source": [
    "yhat = model_BiLSTM.predict(X_test)\n",
    "ytrue = np.argmax(y_test, axis=1).tolist()\n",
    "yhat = np.argmax(yhat, axis=1).tolist()\n",
    "\n",
    "model_BiLSTM.evaluate(X_train, y_train)\n",
    "model_BiLSTM.evaluate(X_test, y_test)"
   ]
  },
  {
   "cell_type": "code",
   "execution_count": null,
   "id": "fe61f53e",
   "metadata": {},
   "outputs": [],
   "source": [
    "multilabel_confusion_matrix(ytrue, yhat)"
   ]
  },
  {
   "cell_type": "markdown",
   "id": "4d61834a",
   "metadata": {},
   "source": [
    "# Test Model in real time"
   ]
  },
  {
   "cell_type": "code",
   "execution_count": 13,
   "id": "4ab1b183",
   "metadata": {
    "scrolled": true
   },
   "outputs": [],
   "source": [
    "colors = (0, 204, 102)\n",
    "def prob_viz(res, actions, input_frame, colors):\n",
    "    output_frame = input_frame.copy()\n",
    "    for num, prob in enumerate(res):\n",
    "        cv2.rectangle(output_frame, (0,60+num*40), (int(prob*100), 90+num*40), colors, -1)\n",
    "        cv2.putText(output_frame, actions[num], (0, 85+num*40), cv2.FONT_HERSHEY_SIMPLEX, 1, (255,255,255), 2, cv2.LINE_AA)\n",
    "        \n",
    "    return output_frame\n",
    "# plt.figure(figsize=(18,18))\n",
    "# plt.imshow(prob_viz(res, actions, image, colors))"
   ]
  },
  {
   "cell_type": "code",
   "execution_count": 14,
   "id": "5ea2ffff",
   "metadata": {},
   "outputs": [
    {
     "ename": "NameError",
     "evalue": "name 'res' is not defined",
     "output_type": "error",
     "traceback": [
      "\u001b[1;31m---------------------------------------------------------------------------\u001b[0m",
      "\u001b[1;31mNameError\u001b[0m                                 Traceback (most recent call last)",
      "\u001b[1;32m~\\AppData\\Local\\Temp\\ipykernel_13652\\2804694325.py\u001b[0m in \u001b[0;36m<module>\u001b[1;34m\u001b[0m\n\u001b[0;32m     27\u001b[0m \u001b[1;33m\u001b[0m\u001b[0m\n\u001b[0;32m     28\u001b[0m             \u001b[1;31m#3. Viz logic\u001b[0m\u001b[1;33m\u001b[0m\u001b[1;33m\u001b[0m\u001b[0m\n\u001b[1;32m---> 29\u001b[1;33m         \u001b[1;32mif\u001b[0m \u001b[0mres\u001b[0m\u001b[1;33m[\u001b[0m\u001b[0mnp\u001b[0m\u001b[1;33m.\u001b[0m\u001b[0margmax\u001b[0m\u001b[1;33m(\u001b[0m\u001b[0mres\u001b[0m\u001b[1;33m)\u001b[0m\u001b[1;33m]\u001b[0m \u001b[1;33m>=\u001b[0m \u001b[0mthreshold\u001b[0m\u001b[1;33m:\u001b[0m\u001b[1;33m\u001b[0m\u001b[1;33m\u001b[0m\u001b[0m\n\u001b[0m\u001b[0;32m     30\u001b[0m             \u001b[1;32mif\u001b[0m \u001b[0mlen\u001b[0m\u001b[1;33m(\u001b[0m\u001b[0msentence\u001b[0m\u001b[1;33m)\u001b[0m \u001b[1;33m>\u001b[0m \u001b[1;36m0\u001b[0m\u001b[1;33m:\u001b[0m\u001b[1;33m\u001b[0m\u001b[1;33m\u001b[0m\u001b[0m\n\u001b[0;32m     31\u001b[0m                 \u001b[1;32mif\u001b[0m \u001b[0mactions\u001b[0m\u001b[1;33m[\u001b[0m\u001b[0mnp\u001b[0m\u001b[1;33m.\u001b[0m\u001b[0margmax\u001b[0m\u001b[1;33m(\u001b[0m\u001b[0mres\u001b[0m\u001b[1;33m)\u001b[0m\u001b[1;33m]\u001b[0m \u001b[1;33m!=\u001b[0m \u001b[0msentence\u001b[0m\u001b[1;33m[\u001b[0m\u001b[1;33m-\u001b[0m\u001b[1;36m1\u001b[0m\u001b[1;33m]\u001b[0m\u001b[1;33m:\u001b[0m\u001b[1;33m\u001b[0m\u001b[1;33m\u001b[0m\u001b[0m\n",
      "\u001b[1;31mNameError\u001b[0m: name 'res' is not defined"
     ]
    }
   ],
   "source": [
    "sequence = []\n",
    "sentence = []\n",
    "threshold = 0.9\n",
    "\n",
    "cap = cv2.VideoCapture(0)\n",
    "# Set mediapipe model \n",
    "with mp_holistic.Holistic(min_detection_confidence=0.5, min_tracking_confidence=0.5) as holistic:\n",
    "    while cap.isOpened():\n",
    "\n",
    "        # Read feed\n",
    "        ret, frame = cap.read()\n",
    "\n",
    "        # Make detections\n",
    "        image, results = mediapipe_detection(frame, holistic)\n",
    "#         print(results)\n",
    "        \n",
    "        # Draw landmarks\n",
    "        draw_styled_landmarks(image, results)\n",
    "        \n",
    "        # 2. Prediction logic\n",
    "        keypoints = extract_keypoints(results)\n",
    "        sequence.append(keypoints)\n",
    "        sequence = sequence[-30:]\n",
    "        \n",
    "        if len(sequence) == 30:\n",
    "            res = model_LSTM.predict(np.expand_dims(sequence, axis=0))[0]\n",
    "                \n",
    "            #3. Viz logic\n",
    "        if res[np.argmax(res)] >= threshold:\n",
    "            if len(sentence) > 0: \n",
    "                if actions[np.argmax(res)] != sentence[-1]:\n",
    "                    sentence.append(actions[np.argmax(res)])\n",
    "            else:\n",
    "                sentence.append(actions[np.argmax(res)])\n",
    "\n",
    "        if len(sentence) > 1:\n",
    "            sentence = sentence[-1:]\n",
    "            \n",
    "        cv2.rectangle(image, (0,0), (640, 40), (0, 204, 102), -1)\n",
    "        cv2.putText(image, ' '.join(sentence), (3,30), \n",
    "                       cv2.FONT_HERSHEY_SIMPLEX, 1, (255, 255, 255), 2, cv2.LINE_AA)\n",
    "        \n",
    "        # Show to screen\n",
    "        cv2.imshow('Result', image)\n",
    "\n",
    "        # Break gracefully\n",
    "        if cv2.waitKey(1) & 0xFF == ord('q'):\n",
    "            break\n",
    "    cap.release()\n",
    "    cv2.destroyAllWindows()"
   ]
  },
  {
   "cell_type": "code",
   "execution_count": 10,
   "id": "c08e74dd",
   "metadata": {
    "scrolled": false
   },
   "outputs": [],
   "source": [
    "sequence = []\n",
    "sentence = []\n",
    "threshold = 0.5\n",
    "predicting = False\n",
    "\n",
    "cap = cv2.VideoCapture(0)\n",
    "\n",
    "# Set mediapipe model\n",
    "with mp_holistic.Holistic(min_detection_confidence=0.5, min_tracking_confidence=0.5) as holistic:\n",
    "    while cap.isOpened():\n",
    "\n",
    "        # Read feed\n",
    "        ret, frame = cap.read()\n",
    "\n",
    "        # Make detections\n",
    "        image, results = mediapipe_detection(frame, holistic)\n",
    "\n",
    "        # Draw landmarks\n",
    "        draw_styled_landmarks(image, results)\n",
    "\n",
    "        # Prediction logic\n",
    "        keypoints = extract_keypoints(results)\n",
    "        sequence.append(keypoints)\n",
    "        sequence = sequence[-30:]\n",
    "\n",
    "        if cv2.waitKey(1) & 0xFF == ord('1'):\n",
    "            if not predicting:\n",
    "                predicting = True\n",
    "                cv2.putText(image, 'Start Predicting...', (120, 200),\n",
    "                            cv2.FONT_HERSHEY_SIMPLEX, 1, (0, 204, 102), 3)\n",
    "\n",
    "            if len(sequence) == 30 and predicting:\n",
    "                res = model_LSTM.predict(np.expand_dims(sequence, axis=0))[0]\n",
    "\n",
    "                # Viz logic\n",
    "            if res[np.argmax(res)] > threshold:\n",
    "                if len(sentence) > 0:\n",
    "                    if actions[np.argmax(res)] != sentence[-1]:\n",
    "                        sentence.append(actions[np.argmax(res)])\n",
    "                else:\n",
    "                    sentence.append(actions[np.argmax(res)])\n",
    "\n",
    "            if len(sentence) > 1:\n",
    "                sentence = sentence[-1:]\n",
    "\n",
    "        if cv2.waitKey(1) & 0xFF == ord('0'):\n",
    "            if predicting:\n",
    "                predicting = False\n",
    "                cv2.putText(image, 'Prediction Stoped.', (120, 200),\n",
    "                            cv2.FONT_HERSHEY_SIMPLEX, 1, (0, 204, 102), 3)\n",
    "\n",
    "        cv2.rectangle(image, (0, 0), (640, 40), (0, 204, 102), -1)\n",
    "        cv2.putText(image, ' '.join(sentence), (3, 30),\n",
    "                    cv2.FONT_HERSHEY_SIMPLEX, 1, (255, 255, 255), 2, cv2.LINE_AA)\n",
    "\n",
    "        # Show to screen\n",
    "        cv2.imshow('Result', image)\n",
    "\n",
    "        # Break gracefully\n",
    "        if cv2.waitKey(1) & 0xFF == ord('q'):\n",
    "            break\n",
    "\n",
    "    cap.release()\n",
    "    cv2.destroyAllWindows()"
   ]
  }
 ],
 "metadata": {
  "kernelspec": {
   "display_name": "gpu",
   "language": "python",
   "name": "gpu"
  },
  "language_info": {
   "codemirror_mode": {
    "name": "ipython",
    "version": 3
   },
   "file_extension": ".py",
   "mimetype": "text/x-python",
   "name": "python",
   "nbconvert_exporter": "python",
   "pygments_lexer": "ipython3",
   "version": "3.9.13"
  }
 },
 "nbformat": 4,
 "nbformat_minor": 5
}
