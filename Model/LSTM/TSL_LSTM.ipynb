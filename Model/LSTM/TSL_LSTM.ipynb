{
 "cells": [
  {
   "cell_type": "markdown",
   "id": "ea43ca32",
   "metadata": {},
   "source": [
    "# Import initial libraries "
   ]
  },
  {
   "cell_type": "code",
   "execution_count": 9,
   "id": "76394459",
   "metadata": {},
   "outputs": [],
   "source": [
    "import cv2\n",
    "import numpy as np\n",
    "import os\n",
    "from matplotlib import pyplot as plt\n",
    "import mediapipe as mp\n",
    "from sklearn.model_selection import train_test_split\n",
    "from keras.utils import to_categorical\n",
    "from keras.models import Sequential, load_model\n",
    "from keras.layers import LSTM, Dense, Dropout\n",
    "from sklearn.metrics import multilabel_confusion_matrix\n",
    "from sklearn.model_selection import KFold, StratifiedKFold"
   ]
  },
  {
   "cell_type": "markdown",
   "id": "082491b5",
   "metadata": {},
   "source": [
    "# Create MediaPipe Function for Detect Body"
   ]
  },
  {
   "cell_type": "code",
   "execution_count": 10,
   "id": "fea85f73",
   "metadata": {},
   "outputs": [],
   "source": [
    "mp_holistic = mp.solutions.holistic # Holistic model\n",
    "mp_drawing = mp.solutions.drawing_utils # Drawing utilities"
   ]
  },
  {
   "cell_type": "code",
   "execution_count": 11,
   "id": "dfbf7da0",
   "metadata": {},
   "outputs": [],
   "source": [
    "def mediapipe_detection(image, model):\n",
    "    image = cv2.cvtColor(image, cv2.COLOR_BGR2RGB) # COLOR CONVERSION BGR 2 RGB\n",
    "    image.flags.writeable = False                  # Image is no longer writeable\n",
    "    results = model.process(image)                 # Make prediction\n",
    "    image.flags.writeable = True                   # Image is now writeable \n",
    "    image = cv2.cvtColor(image, cv2.COLOR_RGB2BGR) # COLOR COVERSION RGB 2 BGR\n",
    "    return image, results"
   ]
  },
  {
   "cell_type": "code",
   "execution_count": 12,
   "id": "1e3231aa",
   "metadata": {},
   "outputs": [],
   "source": [
    "def draw_styled_landmarks(image, results):\n",
    "    # Draw face connections [FACEMESH_TESSELATION]\n",
    "    mp_drawing.draw_landmarks(image, results.face_landmarks, mp_holistic.FACEMESH_CONTOURS, \n",
    "                             mp_drawing.DrawingSpec(color=(80,110,10), thickness=1, circle_radius=1), \n",
    "                             mp_drawing.DrawingSpec(color=(80,256,121), thickness=1, circle_radius=1)) \n",
    "    \n",
    "    # Draw pose connections\n",
    "    mp_drawing.draw_landmarks(image, results.pose_landmarks, mp_holistic.POSE_CONNECTIONS,\n",
    "                             mp_drawing.DrawingSpec(color=(80,22,10), thickness=1, circle_radius=1), \n",
    "                             mp_drawing.DrawingSpec(color=(80,44,121), thickness=1, circle_radius=1)) \n",
    "    \n",
    "    # Draw left hand connections\n",
    "    mp_drawing.draw_landmarks(image, results.left_hand_landmarks, mp_holistic.HAND_CONNECTIONS, \n",
    "                             mp_drawing.DrawingSpec(color=(121,22,76), thickness=1, circle_radius=1), \n",
    "                             mp_drawing.DrawingSpec(color=(121,44,250), thickness=1, circle_radius=1)) \n",
    "    \n",
    "    # Draw right hand connections  \n",
    "    mp_drawing.draw_landmarks(image, results.right_hand_landmarks, mp_holistic.HAND_CONNECTIONS, \n",
    "                             mp_drawing.DrawingSpec(color=(245,117,66), thickness=1, circle_radius=1), \n",
    "                             mp_drawing.DrawingSpec(color=(245,66,230), thickness=1, circle_radius=1)) "
   ]
  },
  {
   "cell_type": "markdown",
   "id": "175f4a8b",
   "metadata": {},
   "source": [
    "# Test MediaPipe Function with real camera "
   ]
  },
  {
   "cell_type": "code",
   "execution_count": null,
   "id": "5495f726",
   "metadata": {},
   "outputs": [],
   "source": [
    "cap = cv2.VideoCapture(0)\n",
    "# Set mediapipe model \n",
    "with mp_holistic.Holistic(min_detection_confidence=0.5, min_tracking_confidence=0.5) as holistic:\n",
    "    while cap.isOpened():\n",
    "\n",
    "        # Read feed\n",
    "        ret, frame = cap.read()\n",
    "\n",
    "        # Make detections\n",
    "        image, results = mediapipe_detection(frame, holistic)\n",
    "#         print(results)\n",
    "        \n",
    "        # Draw landmarks\n",
    "        draw_styled_landmarks(image, results)\n",
    "        \n",
    "        # Show to screen\n",
    "        cv2.imshow('OpenCV Feed', image)\n",
    "\n",
    "        # Break gracefully\n",
    "        if cv2.waitKey(10) & 0xFF == ord('q'):\n",
    "            break\n",
    "    cap.release()\n",
    "    cv2.destroyAllWindows()"
   ]
  },
  {
   "cell_type": "code",
   "execution_count": null,
   "id": "d0638153",
   "metadata": {},
   "outputs": [],
   "source": [
    "# Directory path containing the videos\n",
    "videos_path = '/GitHub/TSL_Recognition/TSL10/Videos_for_Test/Combine/Combine 1'\n",
    "\n",
    "# Get all files in the directory\n",
    "file_list = os.listdir(videos_path)\n",
    "\n",
    "# Filter video files\n",
    "video_files = [file for file in file_list if file.endswith(('.avi', '.mp4', '.mov'))]\n",
    "\n",
    "# Iterate over video files\n",
    "for video_file in video_files:\n",
    "    # Construct the full path to the video file\n",
    "    video_path = os.path.join(videos_path, video_file)\n",
    "\n",
    "    # Initialize VideoCapture object\n",
    "    cap = cv2.VideoCapture(video_path)\n",
    "\n",
    "    with mp_holistic.Holistic(min_detection_confidence=0.5, min_tracking_confidence=0.5) as holistic:\n",
    "        while cap.isOpened():\n",
    "            ret, image = cap.read()\n",
    "            if not ret:\n",
    "                break\n",
    "\n",
    "            # Convert the frame to RGB format\n",
    "            frame_rgb = cv2.cvtColor(image, cv2.COLOR_BGR2RGB)\n",
    "\n",
    "            # Detect actions\n",
    "            results = holistic.process(frame_rgb)\n",
    "\n",
    "            # Draw landmarks and actions on the frame\n",
    "            draw_styled_landmarks(image, results)\n",
    "\n",
    "            # Display the resulting frame\n",
    "            cv2.imshow('Video', image)\n",
    "\n",
    "            # Press 'q' to quit\n",
    "            if cv2.waitKey(1) & 0xFF == ord('q'):\n",
    "                break\n",
    "\n",
    "    # Release the video capture\n",
    "cap.release()\n",
    "\n",
    "# Close windows\n",
    "cv2.destroyAllWindows()"
   ]
  },
  {
   "cell_type": "markdown",
   "id": "581d3a31",
   "metadata": {},
   "source": [
    "# Create Extract Function for Extract Feature"
   ]
  },
  {
   "cell_type": "code",
   "execution_count": null,
   "id": "2e1fd8cd",
   "metadata": {},
   "outputs": [],
   "source": [
    "def extract_keypoints(results):\n",
    "    pose = np.array([[res.x, res.y, res.z, res.visibility] for res in results.pose_landmarks.landmark]).flatten() if results.pose_landmarks else np.zeros(33*4)\n",
    "    face = np.array([[res.x, res.y, res.z] for res in results.face_landmarks.landmark]).flatten() if results.face_landmarks else np.zeros(468*3)\n",
    "    lh = np.array([[res.x, res.y, res.z] for res in results.left_hand_landmarks.landmark]).flatten() if results.left_hand_landmarks else np.zeros(21*3)\n",
    "    rh = np.array([[res.x, res.y, res.z] for res in results.right_hand_landmarks.landmark]).flatten() if results.right_hand_landmarks else np.zeros(21*3)\n",
    "    return np.concatenate([pose, face, lh, rh])"
   ]
  },
  {
   "cell_type": "markdown",
   "id": "f3d48209",
   "metadata": {},
   "source": [
    "# Create Datasets"
   ]
  },
  {
   "cell_type": "code",
   "execution_count": null,
   "id": "ddd04757",
   "metadata": {},
   "outputs": [],
   "source": [
    "# Path for exported data, numpy arrays\n",
    "DATA_PATH = os.path.join('/GitHub/TSL_Recognition/TSL10/Extracted_Keypoints') \n",
    "\n",
    "# Actions that we try to detect\n",
    "# actions = np.array(['hello'])\n",
    "\n",
    "actions = np.array(['Fine', 'Hello', 'Hungry', 'IAm', 'Like',\n",
    "                    'Love', 'Sick', 'Sorry', 'Thanks', 'You'])\n",
    "\n",
    "# Thirty videos worth of data\n",
    "no_sequences = 85\n",
    "\n",
    "# Videos are going to be 30 frames in length\n",
    "sequence_length = 30"
   ]
  },
  {
   "cell_type": "code",
   "execution_count": null,
   "id": "fbf9ad3a",
   "metadata": {},
   "outputs": [],
   "source": [
    "#for sequence in range(30, no_sequences + 30)\n",
    "for action in actions: \n",
    "    for sequence in range(no_sequences):\n",
    "        try: \n",
    "            os.makedirs(os.path.join(DATA_PATH, action, str(sequence)))\n",
    "        except:\n",
    "            pass"
   ]
  },
  {
   "cell_type": "code",
   "execution_count": null,
   "id": "c947807b",
   "metadata": {},
   "outputs": [],
   "source": [
    "# Set the path to the directory containing the videos\n",
    "videos_dir = '/GitHub/TSL_Recognition/TSL10/Videos/'\n",
    "\n",
    "# Set mediapipe model\n",
    "with mp.solutions.holistic.Holistic(min_detection_confidence=0.5, min_tracking_confidence=0.5) as holistic:\n",
    "    # Loop through each folder\n",
    "    for folder_name in os.listdir(videos_dir):\n",
    "        folder_path = os.path.join(videos_dir, folder_name)\n",
    "\n",
    "        # Check if it is a directory\n",
    "        if not os.path.isdir(folder_path):\n",
    "            continue\n",
    "\n",
    "        # Get a list of all video files in the folder\n",
    "        video_files = [f for f in os.listdir(folder_path)]\n",
    "\n",
    "        # Loop through each video file\n",
    "        for video_file in video_files:\n",
    "            # Construct the full path to the video file\n",
    "            video_path = os.path.join(folder_path, video_file)\n",
    "\n",
    "            # Open the video file\n",
    "            cap = cv2.VideoCapture(video_path)\n",
    "\n",
    "            # Remove the file extension from the video file name\n",
    "            video_file_name = os.path.splitext(video_file)[0]\n",
    "\n",
    "            # Create a folder to save keypoints for each video\n",
    "            keypoints_dir = os.path.join(DATA_PATH, folder_name, video_file_name)\n",
    "            os.makedirs(keypoints_dir, exist_ok=True)\n",
    "\n",
    "            # Loop through frames in the video\n",
    "            frame_num = 0\n",
    "            while cap.isOpened():\n",
    "                # Read feed\n",
    "                ret, frame = cap.read()\n",
    "\n",
    "                if not ret:\n",
    "                    break\n",
    "\n",
    "                # Make detections\n",
    "                image, results = mediapipe_detection(frame, holistic)\n",
    "\n",
    "                # Draw landmarks\n",
    "                draw_styled_landmarks(image, results)\n",
    "\n",
    "                # Export keypoints\n",
    "                keypoints = extract_keypoints(results)\n",
    "                npy_path = os.path.join(keypoints_dir, str(frame_num))\n",
    "                np.save(npy_path, keypoints)\n",
    "\n",
    "                frame_num += 1\n",
    "\n",
    "                # Break gracefully\n",
    "                if cv2.waitKey(10) & 0xFF == ord('q'):\n",
    "                    break\n",
    "\n",
    "            cap.release()\n",
    "            cv2.destroyAllWindows()"
   ]
  },
  {
   "cell_type": "markdown",
   "id": "56db8e59",
   "metadata": {},
   "source": [
    "# Prepare Data for train and test"
   ]
  },
  {
   "cell_type": "code",
   "execution_count": null,
   "id": "08e7ae1b",
   "metadata": {},
   "outputs": [],
   "source": [
    "label_map = {label:num for num, label in enumerate(actions)}\n",
    "sequences, labels = [], []\n",
    "for action in actions:\n",
    "    for sequence in range(no_sequences):\n",
    "        window = []\n",
    "        for frame_num in range(sequence_length):\n",
    "            res = np.load(os.path.join(DATA_PATH, action, str(sequence), \"{}.npy\".format(frame_num)))\n",
    "            window.append(res)\n",
    "        sequences.append(window)\n",
    "        labels.append(label_map[action])"
   ]
  },
  {
   "cell_type": "code",
   "execution_count": null,
   "id": "2fa18905",
   "metadata": {},
   "outputs": [],
   "source": [
    "X = np.array(sequences)\n",
    "y = to_categorical(labels).astype(int)\n",
    "X_train, X_test, y_train, y_test = train_test_split(X, y, test_size=0.2)"
   ]
  },
  {
   "cell_type": "code",
   "execution_count": null,
   "id": "b2ec91f4",
   "metadata": {},
   "outputs": [],
   "source": [
    "X_train.shape"
   ]
  },
  {
   "cell_type": "markdown",
   "id": "cc25ac88",
   "metadata": {},
   "source": [
    "# Train model"
   ]
  },
  {
   "attachments": {},
   "cell_type": "markdown",
   "id": "a00b62eb",
   "metadata": {},
   "source": [
    "Train LSTM Model"
   ]
  },
  {
   "cell_type": "code",
   "execution_count": null,
   "id": "b90bf9e0",
   "metadata": {},
   "outputs": [],
   "source": [
    "# K-fold cross-validation\n",
    "k = 5\n",
    "skf = StratifiedKFold(n_splits=k, shuffle=True)\n",
    "\n",
    "accuracy_scores = []\n",
    "\n",
    "for train_index, test_index in skf.split(X, labels):\n",
    "    X_train, X_test = X[train_index], X[test_index]\n",
    "    y_train, y_test = y[train_index], y[test_index]\n",
    "\n",
    "    model_LSTM = Sequential([\n",
    "        LSTM(64, return_sequences=True, activation='relu', input_shape=(30, 1662)),\n",
    "        Dropout(0.1),\n",
    "        LSTM(128, return_sequences=True, activation='relu'),\n",
    "        Dropout(0.1),\n",
    "        LSTM(64, return_sequences=False, activation='relu'),\n",
    "        Dropout(0.1),\n",
    "        Dense(64, activation='relu'),\n",
    "        Dropout(0.1),\n",
    "        Dense(32, activation='relu'),\n",
    "        Dense(actions.shape[0], activation='softmax')\n",
    "    ])\n",
    "\n",
    "    model_LSTM.compile(optimizer='Adamax', loss='categorical_crossentropy', metrics=['categorical_accuracy'])\n",
    "    model_LSTM.fit(X_train, y_train, validation_data=(X_test, y_test), epochs=300, batch_size=32)\n",
    "\n",
    "    _, accuracy = model_LSTM.evaluate(X_test, y_test)\n",
    "    accuracy_scores.append(accuracy)\n",
    "\n",
    "print(\"Accuracy scores for each fold:\", accuracy_scores)\n",
    "print(\"Mean accuracy:\", np.mean(accuracy_scores))"
   ]
  },
  {
   "cell_type": "code",
   "execution_count": null,
   "id": "b2b237b6",
   "metadata": {
    "jupyter": {
     "outputs_hidden": true
    },
    "scrolled": true,
    "tags": []
   },
   "outputs": [],
   "source": [
    "model_LSTM = Sequential([\n",
    "    LSTM(64, return_sequences=True, activation='relu', input_shape=(30, 1662)),\n",
    "    Dropout(0.1),\n",
    "    LSTM(128, return_sequences=True, activation='relu'),\n",
    "    Dropout(0.1),\n",
    "    LSTM(64, return_sequences=False, activation='relu'),\n",
    "    Dropout(0.1),\n",
    "    Dense(64, activation='relu'),\n",
    "    Dropout(0.1),\n",
    "    Dense(32, activation='relu'),\n",
    "    Dense(actions.shape[0], activation='softmax')])\n",
    "\n",
    "model_LSTM.compile(optimizer='Adamax', loss='categorical_crossentropy', metrics=[\n",
    "                   'categorical_accuracy'])\n",
    "model_LSTM.fit(X_train, y_train, validation_data=(\n",
    "    X_test, y_test), epochs=300, batch_size=32)"
   ]
  },
  {
   "cell_type": "code",
   "execution_count": null,
   "id": "463ee077",
   "metadata": {},
   "outputs": [],
   "source": [
    "plt.figure(figsize=(9,6))\n",
    "plt.plot(model_LSTM.history.history['categorical_accuracy'], label='Train accuracy')\n",
    "plt.plot(model_LSTM.history.history['val_categorical_accuracy'], label='Validation accuracy')\n",
    "plt.ylabel('Value')\n",
    "plt.xlabel('No. epoch')\n",
    "plt.legend()\n",
    "plt.show()"
   ]
  },
  {
   "cell_type": "code",
   "execution_count": null,
   "id": "d1f25dd1",
   "metadata": {},
   "outputs": [],
   "source": [
    "plt.figure(figsize=(9,6))\n",
    "plt.plot(model_LSTM.history.history['loss'], label='Train loss')\n",
    "plt.plot(model_LSTM.history.history['val_loss'], label='Validation loss')\n",
    "plt.ylabel('Value')\n",
    "plt.xlabel('No. epoch')\n",
    "plt.legend()\n",
    "plt.show()"
   ]
  },
  {
   "cell_type": "code",
   "execution_count": null,
   "id": "db507a9a",
   "metadata": {},
   "outputs": [],
   "source": [
    "model_LSTM.summary()"
   ]
  },
  {
   "cell_type": "code",
   "execution_count": null,
   "id": "9e3f1889",
   "metadata": {},
   "outputs": [],
   "source": [
    "model_LSTM.save('../LSTM/LSTM_Model.h5')"
   ]
  },
  {
   "cell_type": "code",
   "execution_count": 8,
   "id": "79bb047f",
   "metadata": {},
   "outputs": [],
   "source": [
    "model_LSTM = load_model('../LSTM/LSTM_Model.h5')"
   ]
  },
  {
   "attachments": {},
   "cell_type": "markdown",
   "id": "42c9744c",
   "metadata": {},
   "source": [
    "Test Accuracy Model"
   ]
  },
  {
   "cell_type": "code",
   "execution_count": null,
   "id": "ccdbf1ce",
   "metadata": {},
   "outputs": [],
   "source": [
    "yhat = model_LSTM.predict(X_test)\n",
    "ytrue = np.argmax(y_test, axis=1).tolist()\n",
    "yhat = np.argmax(yhat, axis=1).tolist()\n",
    "\n",
    "model_LSTM.evaluate(X_train, y_train)\n",
    "model_LSTM.evaluate(X_test, y_test)\n",
    "# accuracy_score(ytrue, yhat)"
   ]
  },
  {
   "cell_type": "code",
   "execution_count": null,
   "id": "fe61f53e",
   "metadata": {},
   "outputs": [],
   "source": [
    "multilabel_confusion_matrix(ytrue, yhat)"
   ]
  },
  {
   "cell_type": "markdown",
   "id": "4d61834a",
   "metadata": {},
   "source": [
    "# Test Model in real time"
   ]
  },
  {
   "cell_type": "code",
   "execution_count": null,
   "id": "c08e74dd",
   "metadata": {
    "scrolled": false
   },
   "outputs": [],
   "source": [
    "# # 1. New detection variables\n",
    "# sequence = []\n",
    "# sentence = []\n",
    "# predictions = []\n",
    "# confidence = 0.8\n",
    "\n",
    "# cap = cv2.VideoCapture(0)\n",
    "# resolution = (800, 600)\n",
    "# cap.set(cv2.CAP_PROP_FRAME_WIDTH, resolution[0])\n",
    "# cap.set(cv2.CAP_PROP_FRAME_HEIGHT, resolution[1])\n",
    "\n",
    "# # Set mediapipe model\n",
    "# with mp_holistic.Holistic(min_detection_confidence=0.5, min_tracking_confidence=0.5) as holistic:\n",
    "#     while cap.isOpened():\n",
    "\n",
    "#         # Read feed\n",
    "#         ret, frame = cap.read()\n",
    "\n",
    "#         # Make detections\n",
    "#         image, results = mediapipe_detection(frame, holistic)\n",
    "\n",
    "#         # Draw landmarks\n",
    "#         draw_styled_landmarks(image, results)\n",
    "\n",
    "#         # 2. Prediction logic\n",
    "#         keypoints = extract_keypoints(results)\n",
    "#         sequence.append(keypoints)\n",
    "#         sequence = sequence[-30:]\n",
    "\n",
    "#         if len(sequence) == 30:\n",
    "#             res = model_LSTM.predict(np.expand_dims(sequence, axis=0))[0]\n",
    "#             predictions.append(np.argmax(res))\n",
    "\n",
    "#         # 3. Viz logic\n",
    "#             if np.unique(predictions[-10:])[0] == np.argmax(res):\n",
    "#                 if res[np.argmax(res)] >= confidence:\n",
    "\n",
    "#                     if len(sentence) > 0:\n",
    "#                         if actions[np.argmax(res)] != sentence[-1]:\n",
    "#                             sentence.append(actions[np.argmax(res)])\n",
    "#                     else:\n",
    "#                         sentence.append(actions[np.argmax(res)])\n",
    "\n",
    "#             if len(sentence) > 1:\n",
    "#                 sentence = sentence[-1:]\n",
    "\n",
    "#         cv2.rectangle(image, (0, 0), (640, 40), (0, 204, 102), -1)\n",
    "#         cv2.putText(image, ' '.join(sentence), (3, 30),\n",
    "#                     cv2.FONT_HERSHEY_SIMPLEX, 1, (255, 255, 255), 2, cv2.LINE_AA)\n",
    "\n",
    "#         # Show to screen\n",
    "#         cv2.imshow('Result', image)\n",
    "\n",
    "#         # Break gracefully\n",
    "#         if cv2.waitKey(1) & 0xFF == ord('q'):\n",
    "#             break\n",
    "        \n",
    "#     cap.release()\n",
    "#     cv2.destroyAllWindows()"
   ]
  },
  {
   "attachments": {},
   "cell_type": "markdown",
   "id": "5a9de1de",
   "metadata": {},
   "source": [
    "Test With Video"
   ]
  },
  {
   "cell_type": "code",
   "execution_count": null,
   "id": "eb90c0ee",
   "metadata": {},
   "outputs": [],
   "source": [
    "sequence = []\n",
    "sentence = []\n",
    "predictions = []\n",
    "confidence = 0.9\n",
    "\n",
    "# Directory path containing the videos\n",
    "videos_path = '/GitHub/TSL_Recognition/Collect_videos/Combine/'\n",
    "\n",
    "# Get all files in the directory\n",
    "file_list = os.listdir(videos_path)\n",
    "\n",
    "# Filter video files\n",
    "video_files = [file for file in file_list if file.endswith(('.avi', '.mp4', '.mov'))]\n",
    "\n",
    "# Iterate over video files\n",
    "for video_file in video_files:\n",
    "    # Construct the full path to the video file\n",
    "    video_path = os.path.join(videos_path, video_file)\n",
    "\n",
    "    # Initialize VideoCapture object\n",
    "    cap = cv2.VideoCapture(video_path)\n",
    "\n",
    "    with mp_holistic.Holistic(min_detection_confidence=0.5, min_tracking_confidence=0.5) as holistic:\n",
    "        while cap.isOpened():\n",
    "            ret, image = cap.read()\n",
    "            if not ret:\n",
    "                break\n",
    "\n",
    "            # Convert the frame to RGB format\n",
    "            frame_rgb = cv2.cvtColor(image, cv2.COLOR_BGR2RGB)\n",
    "\n",
    "            # Detect actions\n",
    "            results = holistic.process(frame_rgb)\n",
    "\n",
    "            # Draw landmarks and actions on the frame\n",
    "            draw_styled_landmarks(image, results)\n",
    "            \n",
    "            keypoints = extract_keypoints(results)\n",
    "            sequence.append(keypoints)\n",
    "            sequence = sequence[-30:]\n",
    "\n",
    "            if len(sequence) == 30:\n",
    "                res = model_LSTM.predict(np.expand_dims(sequence, axis=0))[0]\n",
    "                predictions.append(np.argmax(res))\n",
    "\n",
    "                # 3. Viz logic\n",
    "                if np.unique(predictions[-10:])[0] == np.argmax(res):\n",
    "                    if res[np.argmax(res)] >= confidence:\n",
    "\n",
    "                        if len(sentence) > 0:\n",
    "                            if actions[np.argmax(res)] != sentence[-1]:\n",
    "                                sentence.append(actions[np.argmax(res)])\n",
    "                        else:\n",
    "                            sentence.append(actions[np.argmax(res)])\n",
    "\n",
    "                if len(sentence) > 5:\n",
    "                    sentence = sentence[-5:]\n",
    "\n",
    "            cv2.rectangle(image, (0, 0), (640, 40), (0, 204, 102), -1)\n",
    "            cv2.putText(image, ' '.join(sentence), (3, 30),\n",
    "            cv2.FONT_HERSHEY_SIMPLEX, 1, (255, 255, 255), 2, cv2.LINE_AA)\n",
    "\n",
    "                # Display the resulting frame\n",
    "            cv2.imshow('Video', image)\n",
    "\n",
    "            # Press 'q' to quit\n",
    "            if cv2.waitKey(1) & 0xFF == ord('q'):\n",
    "                break\n",
    "\n",
    "    # Release the video capture\n",
    "    cap.release()\n",
    "\n",
    "# Close windows\n",
    "cv2.destroyAllWindows()"
   ]
  }
 ],
 "metadata": {
  "kernelspec": {
   "display_name": "gpu",
   "language": "python",
   "name": "gpu"
  },
  "language_info": {
   "codemirror_mode": {
    "name": "ipython",
    "version": 3
   },
   "file_extension": ".py",
   "mimetype": "text/x-python",
   "name": "python",
   "nbconvert_exporter": "python",
   "pygments_lexer": "ipython3",
   "version": "3.9.13"
  }
 },
 "nbformat": 4,
 "nbformat_minor": 5
}
