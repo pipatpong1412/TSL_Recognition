{
 "cells": [
  {
   "cell_type": "code",
   "execution_count": 1,
   "metadata": {},
   "outputs": [],
   "source": [
    "import cv2\n",
    "import os\n",
    "from moviepy.editor import VideoFileClip\n",
    "from moviepy.video.io.ffmpeg_tools import ffmpeg_extract_subclip"
   ]
  },
  {
   "cell_type": "code",
   "execution_count": 6,
   "metadata": {},
   "outputs": [],
   "source": [
    "def record_video(video_file):\n",
    "    # Define the codec and create a VideoWriter object\n",
    "    fourcc = cv2.VideoWriter_fourcc(*'XVID')\n",
    "    output = cv2.VideoWriter(video_file, fourcc, 20.0, (640, 480))\n",
    "\n",
    "    # Open the default camera\n",
    "    capture = cv2.VideoCapture(0)\n",
    "\n",
    "    while True:\n",
    "        # Read frame from the camera\n",
    "        ret, frame = capture.read()\n",
    "\n",
    "        if not ret:\n",
    "            print(\"Failed to capture frame!\")\n",
    "            break\n",
    "\n",
    "        # Display the frame\n",
    "        cv2.imshow('Video Recording', frame)\n",
    "\n",
    "        # Write the frame to the video file\n",
    "        output.write(frame)\n",
    "\n",
    "        # Break the loop if 'q' is pressed\n",
    "        if cv2.waitKey(1) & 0xFF == ord('q'):\n",
    "            break\n",
    "\n",
    "    # Release resources\n",
    "    capture.release()\n",
    "    output.release()\n",
    "    cv2.destroyAllWindows()"
   ]
  },
  {
   "cell_type": "code",
   "execution_count": 7,
   "metadata": {},
   "outputs": [],
   "source": [
    "def cut_video_into_segments(video_path, output_directory):\n",
    "    # Load the video file\n",
    "    video = VideoFileClip(video_path)\n",
    "    \n",
    "    # Get the video duration in seconds\n",
    "    video_duration = video.duration\n",
    "    \n",
    "    # Define the segment duration in seconds\n",
    "    segment_duration = 1\n",
    "    # Set the desired start time in seconds\n",
    "    start_time = 0\n",
    "\n",
    "    # Calculate the number of segments based on the adjusted start time\n",
    "    num_segments = int((video_duration - start_time) / segment_duration)\n",
    "\n",
    "    # Iterate over each segment and extract it\n",
    "    for i in range(num_segments):\n",
    "        start_time_segment = start_time + (i * segment_duration)\n",
    "        end_time_segment = start_time_segment + segment_duration\n",
    "        \n",
    "        # Generate the output file name\n",
    "        output_file = os.path.join(output_directory, f\"{i+1}.avi\")\n",
    "        \n",
    "        # Extract the segment using ffmpeg\n",
    "        ffmpeg_extract_subclip(video_path, start_time_segment, end_time_segment, targetname=output_file)\n",
    "    \n",
    "    print(\"All segments extracted successfully.\")"
   ]
  },
  {
   "cell_type": "code",
   "execution_count": 8,
   "metadata": {},
   "outputs": [
    {
     "name": "stdout",
     "output_type": "stream",
     "text": [
      "Moviepy - Running:\n",
      ">>> \"+ \" \".join(cmd)\n",
      "Moviepy - Command successful\n",
      "Moviepy - Running:\n",
      ">>> \"+ \" \".join(cmd)\n",
      "Moviepy - Command successful\n",
      "Moviepy - Running:\n",
      ">>> \"+ \" \".join(cmd)\n",
      "Moviepy - Command successful\n",
      "Moviepy - Running:\n",
      ">>> \"+ \" \".join(cmd)\n",
      "Moviepy - Command successful\n",
      "Moviepy - Running:\n",
      ">>> \"+ \" \".join(cmd)\n",
      "Moviepy - Command successful\n",
      "Moviepy - Running:\n",
      ">>> \"+ \" \".join(cmd)\n",
      "Moviepy - Command successful\n",
      "All segments extracted successfully.\n"
     ]
    }
   ],
   "source": [
    "# Example usage\n",
    "video_file = './TSL10/Videos_for_Test/Fine/Test_Fine 1_cut.mp4'\n",
    "output_directory = './TSL10/Videos_for_Test/Result/'\n",
    "\n",
    "# Record a video\n",
    "record_video(video_file)\n",
    "\n",
    "# Extract frames from the video\n",
    "cut_video_into_segments(video_file, output_directory)"
   ]
  }
 ],
 "metadata": {
  "kernelspec": {
   "display_name": "gpu",
   "language": "python",
   "name": "gpu"
  },
  "language_info": {
   "codemirror_mode": {
    "name": "ipython",
    "version": 3
   },
   "file_extension": ".py",
   "mimetype": "text/x-python",
   "name": "python",
   "nbconvert_exporter": "python",
   "pygments_lexer": "ipython3",
   "version": "3.9.13"
  },
  "orig_nbformat": 4
 },
 "nbformat": 4,
 "nbformat_minor": 2
}
