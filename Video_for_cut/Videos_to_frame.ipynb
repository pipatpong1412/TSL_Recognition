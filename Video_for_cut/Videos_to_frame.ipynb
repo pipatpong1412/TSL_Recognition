{
 "cells": [
  {
   "cell_type": "code",
   "execution_count": 1,
   "metadata": {},
   "outputs": [],
   "source": [
    "from moviepy.editor import VideoFileClip\n",
    "from moviepy.video.io.ffmpeg_tools import ffmpeg_extract_subclip\n",
    "import os"
   ]
  },
  {
   "cell_type": "code",
   "execution_count": null,
   "metadata": {},
   "outputs": [],
   "source": [
    "def cut_video_into_segments(video_path, output_directory):\n",
    "    # Load the video file\n",
    "    video = VideoFileClip(video_path)\n",
    "    \n",
    "    # Get the video duration in seconds\n",
    "    video_duration = video.duration\n",
    "    \n",
    "    # Define the segment duration in seconds\n",
    "    segment_duration = 1\n",
    "    # Set the desired start time in seconds\n",
    "    start_time = 0.7\n",
    "\n",
    "    # Calculate the number of segments based on the adjusted start time\n",
    "    num_segments = int((video_duration - start_time) / segment_duration)\n",
    "\n",
    "    # Iterate over each segment and extract it\n",
    "    for i in range(num_segments):\n",
    "        start_time_segment = start_time + (i * segment_duration)\n",
    "        end_time_segment = start_time_segment + segment_duration\n",
    "        \n",
    "        # Generate the output file name\n",
    "        output_file = os.path.join(output_directory, f\"{i+1}.avi\")\n",
    "        \n",
    "        # Extract the segment using ffmpeg\n",
    "        ffmpeg_extract_subclip(video_path, start_time_segment, end_time_segment, targetname=output_file)\n",
    "    \n",
    "    print(\"All segments extracted successfully.\")\n",
    "\n",
    "# Example usage\n",
    "video_path = \"/GitHub/TSL_Recognition/Collect_Videos/You/You2.avi\"\n",
    "output_directory = \"/GitHub/TSL_Recognition/Video_for_cut/Result/\"\n",
    "\n",
    "cut_video_into_segments(video_path, output_directory)"
   ]
  },
  {
   "cell_type": "code",
   "execution_count": null,
   "metadata": {},
   "outputs": [],
   "source": [
    "import os\n",
    "\n",
    "# Directory path containing the files\n",
    "directory = \"/GitHub/TSL_Recognition/Video_for_cut/Result/\"\n",
    "\n",
    "# Iterate over the files in the directory\n",
    "for count, filename in enumerate(os.listdir(directory)):\n",
    "    # Generate the new file name\n",
    "    new_filename = str(count+60) + os.path.splitext(filename)[1]\n",
    "    \n",
    "    # Construct the full file paths\n",
    "    current_path = os.path.join(directory, filename)\n",
    "    new_path = os.path.join(directory, new_filename)\n",
    "    \n",
    "    # Check if the new path already exists\n",
    "    if not os.path.exists(new_path):\n",
    "        # Rename the file\n",
    "        os.rename(current_path, new_path)\n",
    "        print(f\"Renamed {filename} to {new_filename}\")\n",
    "    else:\n",
    "        print(f\"Skipped renaming {filename} because {new_filename} already exists\")\n",
    "\n",
    "print(\"All files renamed successfully.\")"
   ]
  }
 ],
 "metadata": {
  "kernelspec": {
   "display_name": "gpu",
   "language": "python",
   "name": "gpu"
  },
  "language_info": {
   "codemirror_mode": {
    "name": "ipython",
    "version": 3
   },
   "file_extension": ".py",
   "mimetype": "text/x-python",
   "name": "python",
   "nbconvert_exporter": "python",
   "pygments_lexer": "ipython3",
   "version": "3.9.13"
  },
  "orig_nbformat": 4
 },
 "nbformat": 4,
 "nbformat_minor": 2
}
