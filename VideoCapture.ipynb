{
 "cells": [
  {
   "cell_type": "code",
   "execution_count": 11,
   "metadata": {},
   "outputs": [],
   "source": [
    "import cv2"
   ]
  },
  {
   "cell_type": "code",
   "execution_count": 16,
   "metadata": {},
   "outputs": [],
   "source": [
    "cap = cv2.VideoCapture(0)\n",
    "while cap.isOpened():\n",
    "    ret, frame = cap.read()\n",
    "    flip = cv2.flip(frame, 1)\n",
    "    cv2.imshow('OpenCV Feed', flip)\n",
    "\n",
    "    if cv2.waitKey(10) & 0xFF == ord('q'):\n",
    "        break\n",
    "cap.release()\n",
    "cv2.destroyAllWindows()"
   ]
  },
  {
   "cell_type": "code",
   "execution_count": null,
   "metadata": {},
   "outputs": [],
   "source": [
    "import cv2\n",
    "\n",
    "# Create a VideoCapture object\n",
    "cap = cv2.VideoCapture(0)  # 0 refers to the default camera, you can change it to the index of a specific camera if you have multiple cameras connected\n",
    "\n",
    "# Check if the camera is opened successfully\n",
    "if not cap.isOpened():\n",
    "    print(\"Error opening video capture!\")\n",
    "else:\n",
    "    # Set the countdown timer to 5 seconds\n",
    "    countdown = 5\n",
    "    while countdown > 0:\n",
    "        print(countdown)\n",
    "        countdown -= 1\n",
    "        cv2.waitKey(1000)  # Wait for 1 second\n",
    "        \n",
    "    # Read and save frames from the camera until the user quits\n",
    "    frame_number = 1\n",
    "    while True:\n",
    "        # Capture a frame\n",
    "        ret, frame = cap.read()\n",
    "        \n",
    "        # Check if the frame is valid\n",
    "        if not ret:\n",
    "            print(\"Error reading frame!\")\n",
    "            break\n",
    "        \n",
    "        # Save the frame as a JPEG file\n",
    "        filename = f\"frame{frame_number}.jpg\"\n",
    "        cv2.imwrite(filename, frame)\n",
    "        frame_number += 1\n",
    "        \n",
    "        # Display the frame\n",
    "        cv2.imshow(\"Video Capture\", frame)\n",
    "        \n",
    "        # Check if the user wants to quit\n",
    "        if cv2.waitKey(1) == ord('q'):\n",
    "            break\n",
    "\n",
    "# Release the VideoCapture object and close the window\n",
    "cap.release()\n",
    "cv2.destroyAllWindows()\n"
   ]
  }
 ],
 "metadata": {
  "kernelspec": {
   "display_name": "gpu",
   "language": "python",
   "name": "gpu"
  },
  "language_info": {
   "codemirror_mode": {
    "name": "ipython",
    "version": 3
   },
   "file_extension": ".py",
   "mimetype": "text/x-python",
   "name": "python",
   "nbconvert_exporter": "python",
   "pygments_lexer": "ipython3",
   "version": "3.9.13"
  },
  "orig_nbformat": 4,
  "vscode": {
   "interpreter": {
    "hash": "ec35c5993c29ff2a99502c61fefacf9c904badba0a0676bb5c7e8691fdafaf6f"
   }
  }
 },
 "nbformat": 4,
 "nbformat_minor": 2
}
