{
 "cells": [
  {
   "cell_type": "markdown",
   "id": "7be7f525",
   "metadata": {},
   "source": [
    "# Landmark MidiaPipe Face"
   ]
  },
  {
   "cell_type": "code",
   "execution_count": null,
   "id": "e8420e43",
   "metadata": {},
   "outputs": [],
   "source": [
    "import cv2\n",
    "import mediapipe as mp\n",
    "import matplotlib.pyplot as plt\n",
    "from matplotlib.animation import FuncAnimation\n",
    "import numpy as np\n",
    "\n",
    "mp_drawing = mp.solutions.drawing_utils\n",
    "mp_face_mesh = mp.solutions.face_mesh\n",
    "\n",
    "# Initialize Face Mesh model\n",
    "face_mesh = mp_face_mesh.FaceMesh()\n",
    "\n",
    "# Open video capture\n",
    "cap = cv2.VideoCapture(0)\n",
    "\n",
    "# Initialize Matplotlib figure and axis with inverted y-axis\n",
    "fig = plt.figure()\n",
    "ax = fig.add_subplot(111)\n",
    "ax.invert_yaxis()\n",
    "\n",
    "# Initialize empty scatter plot with smaller size landmarks\n",
    "scatter = ax.scatter([], [], s = 1, c = 'black')\n",
    "\n",
    "# Define animation function\n",
    "def update(frame):\n",
    "    success, image = cap.read()\n",
    "\n",
    "    if not success:\n",
    "        return scatter,\n",
    "\n",
    "    # Convert image to RGB\n",
    "    image = cv2.cvtColor(image, cv2.COLOR_BGR2RGB)\n",
    "\n",
    "    # Process image with Face Mesh model\n",
    "    results = face_mesh.process(image)\n",
    "\n",
    "    # Draw keypoints on image\n",
    "    mp_drawing.draw_landmarks(image, results.multi_face_landmarks[0], mp_face_mesh.FACEMESH_TESSELATION)\n",
    "\n",
    "    # Extract x, y, z coordinates of each keypoint\n",
    "    keypoints = []\n",
    "    for landmark in results.multi_face_landmarks[0].landmark:\n",
    "        keypoints.append([landmark.x, landmark.y, landmark.z])\n",
    "\n",
    "    # Convert keypoints list to NumPy array and transpose for plotting\n",
    "    keypoints_arr = np.array(keypoints).T\n",
    "\n",
    "    # Update scatter plot with new data\n",
    "    scatter.set_offsets(keypoints_arr[:2].T)\n",
    "\n",
    "    # Set axis limits\n",
    "    ax.set_xlim([0, 1])\n",
    "    ax.set_ylim([1, 0])\n",
    "\n",
    "    # Convert image back to BGR for displaying\n",
    "    image = cv2.cvtColor(image, cv2.COLOR_RGB2BGR)\n",
    "\n",
    "    # Return scatter plot for animation\n",
    "    return scatter,\n",
    "\n",
    "# Create animation object and start animation\n",
    "ani = FuncAnimation(fig, update, interval=10, blit=True)\n",
    "\n",
    "# Save animation as a PNG image\n",
    "# ani.save('face_landmarks.gif', writer='Pillow')\n",
    "\n",
    "# Close Face Mesh model and video capture when animation ends\n",
    "face_mesh.close()\n",
    "cap.release()\n"
   ]
  },
  {
   "attachments": {},
   "cell_type": "markdown",
   "id": "9c1c373e",
   "metadata": {},
   "source": [
    "Open npy files"
   ]
  },
  {
   "cell_type": "code",
   "execution_count": 1,
   "id": "4172991c",
   "metadata": {},
   "outputs": [
    {
     "name": "stdout",
     "output_type": "stream",
     "text": [
      "1662\n",
      "1662\n",
      "1662\n",
      "1662\n",
      "1662\n",
      "1662\n",
      "1662\n",
      "1662\n",
      "1662\n",
      "1662\n",
      "1662\n",
      "1662\n",
      "1662\n",
      "1662\n",
      "1662\n",
      "1662\n",
      "1662\n",
      "1662\n",
      "1662\n",
      "1662\n",
      "1662\n",
      "1662\n",
      "1662\n",
      "1662\n",
      "1662\n",
      "1662\n",
      "1662\n",
      "1662\n",
      "1662\n",
      "1662\n"
     ]
    }
   ],
   "source": [
    "import os\n",
    "import numpy as np\n",
    "\n",
    "# Path to directory containing .npy files\n",
    "dir_path = 'Datasets/Lock/1/'\n",
    "\n",
    "# Loop over all files in directory\n",
    "for file_name in os.listdir(dir_path):\n",
    "    if file_name.endswith('.npy'):\n",
    "        file_path = os.path.join(dir_path, file_name)\n",
    "\n",
    "        # Load .npy file\n",
    "        data = np.load(file_path)\n",
    "\n",
    "        # Print file name and data\n",
    "        print(len(data))\n"
   ]
  },
  {
   "cell_type": "markdown",
   "id": "6c6e5125",
   "metadata": {},
   "source": [
    "# Landmaks MediaPipe All ยังใช้ไม่ได้"
   ]
  },
  {
   "cell_type": "code",
   "execution_count": 1,
   "id": "631d9b26",
   "metadata": {},
   "outputs": [
    {
     "ename": "",
     "evalue": "",
     "output_type": "error",
     "traceback": [
      "\u001b[1;31mThe Kernel crashed while executing code in the the current cell or a previous cell. Please review the code in the cell(s) to identify a possible cause of the failure. Click <a href='https://aka.ms/vscodeJupyterKernelCrash'>here</a> for more info. View Jupyter <a href='command:jupyter.viewOutput'>log</a> for further details."
     ]
    }
   ],
   "source": [
    "import mediapipe as mp\n",
    "import numpy as np\n",
    "import matplotlib.pyplot as plt\n",
    "from mpl_toolkits.mplot3d import Axes3D\n",
    "import cv2\n",
    "\n",
    "# video_path = \"path/to/your/video.mp4\"\n",
    "cap = cv2.VideoCapture(0)\n",
    "\n",
    "face_mesh = mp.solutions.face_mesh.FaceMesh()\n",
    "hands = mp.solutions.hands.Hands()\n",
    "pose = mp.solutions.pose.Pose()\n",
    "\n",
    "while cap.isOpened():\n",
    "    success, image = cap.read()\n",
    "    if not success:\n",
    "        break\n",
    "    \n",
    "    # Process the image to detect the face, hands, and pose keypoints\n",
    "    image = cv2.cvtColor(cv2.flip(image, 1), cv2.COLOR_BGR2RGB)\n",
    "    results_face_mesh = face_mesh.process(image)\n",
    "    results_hands = hands.process(image)\n",
    "    results_pose = pose.process(image)\n",
    "    \n",
    "    # Draw the keypoints on the image\n",
    "    # ...\n",
    "    \n",
    "    cv2.imshow(\"Video\", image)\n",
    "    if cv2.waitKey(1) & 0xFF == ord('q'):\n",
    "        break\n",
    "\n",
    "fig = plt.figure()\n",
    "ax = fig.add_subplot(111, projection='3d')\n",
    "\n",
    "while cap.isOpened():\n",
    "    success"
   ]
  }
 ],
 "metadata": {
  "kernelspec": {
   "display_name": "gpu",
   "language": "python",
   "name": "gpu"
  },
  "language_info": {
   "codemirror_mode": {
    "name": "ipython",
    "version": 3
   },
   "file_extension": ".py",
   "mimetype": "text/x-python",
   "name": "python",
   "nbconvert_exporter": "python",
   "pygments_lexer": "ipython3",
   "version": "3.9.13"
  }
 },
 "nbformat": 4,
 "nbformat_minor": 5
}
